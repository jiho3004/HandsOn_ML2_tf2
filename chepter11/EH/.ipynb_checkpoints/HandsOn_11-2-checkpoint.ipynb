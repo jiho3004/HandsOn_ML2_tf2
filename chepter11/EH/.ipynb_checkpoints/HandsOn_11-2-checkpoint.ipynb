{
 "cells": [
  {
   "cell_type": "markdown",
   "metadata": {},
   "source": [
    "# 11장\n",
    "### 11.4\n",
    "----\n",
    "\n",
    "### Optimizer, Activation, Initializer를 조합하여 모델을 만들고 평가해 봅니다.\n",
    "\n",
    "* 수렴이 언제부터 시작되나요? \n",
    "\n",
    "* 모델의 성능은 어떤가요?\n",
    "\n",
    "* 전체 훈련 속도는 몇인가요? \n",
    "\n",
    "----"
   ]
  },
  {
   "cell_type": "code",
   "execution_count": 1,
   "metadata": {},
   "outputs": [],
   "source": [
    "import tensorflow as tf\n",
    "import numpy as np\n",
    "import matplotlib.pyplot as plt\n",
    "\n",
    "def draw_image(img):\n",
    "    plt.imshow(img, cmap='gray')\n",
    "    #plt.title(img)\n",
    "    plt.show()"
   ]
  },
  {
   "cell_type": "markdown",
   "metadata": {},
   "source": [
    "# [ 0 ] 데이터셋 준비\n",
    "\n",
    "* MNIST 데이터셋을 불러오세요. tf.keras.datasets.mnist.load_ data()를 사용하여 데이터를 적재할 수 있습니다.\n",
    "* 데이터셋의 차원을 확인해봅시다."
   ]
  },
  {
   "cell_type": "code",
   "execution_count": 2,
   "metadata": {},
   "outputs": [
    {
     "name": "stdout",
     "output_type": "stream",
     "text": [
      "* Load\n",
      "Train set:  (60000, 28, 28) [  0   0   0   0   0   0   0   0   0  14   1 154 253  90   0   0   0   0\n",
      "   0   0   0   0   0   0   0   0   0   0]\n",
      "Test set:  (10000, 28, 28) [  0   0   0   0   0   0   0   0   0   0   0  17  66  14  67  67  67  59\n",
      "  21 236 254 106   0   0   0   0   0   0]\n"
     ]
    }
   ],
   "source": [
    "# load\n",
    "(img, label), (img_test, label_test) = tf.keras.datasets.mnist.load_data()\n",
    "print('* Load')\n",
    "print('Train set: ', img.shape, img[0][10])\n",
    "print('Test set: ', img_test.shape, img_test[0][10])"
   ]
  },
  {
   "cell_type": "code",
   "execution_count": 3,
   "metadata": {},
   "outputs": [
    {
     "data": {
      "image/png": "[encoded data removed]",
      "text/plain": [
       "<Figure size 432x288 with 1 Axes>"
      ]
     },
     "metadata": {
      "needs_background": "light"
     },
     "output_type": "display_data"
    }
   ],
   "source": [
    "draw_image(img[0])"
   ]
  },
  {
   "cell_type": "markdown",
   "metadata": {},
   "source": [
    "* 불러온 이미지을 **preProcessing** 함수를 통해 데이터셋으로 전환합시다."
   ]
  },
  {
   "cell_type": "code",
   "execution_count": 4,
   "metadata": {},
   "outputs": [],
   "source": [
    "def preProcessing(img, img_test):\n",
    "\n",
    "    # reshape for CNN (3-dimension required)\n",
    "    print('* Reshape')\n",
    "#    x_train = np.reshape(img, (60000,28,28,1))\n",
    "#    x_test = np.reshape(img_test, (10000,28,28,1))\n",
    "    x_train = np.reshape(img, (60000,28*28))\n",
    "    x_test = np.reshape(img_test, (10000,28*28))\n",
    "    print(x_train.shape)\n",
    "    print(x_test.shape)\n",
    "\n",
    "    # Normalize    \n",
    "    print('* Normailze')\n",
    "    x_train = (x_train/255)\n",
    "    x_test = (x_test/255)\n",
    "    print(x_train.shape)\n",
    "    print(x_test.shape)\n",
    "    \n",
    "    return x_train, x_test"
   ]
  },
  {
   "cell_type": "code",
   "execution_count": 5,
   "metadata": {},
   "outputs": [
    {
     "name": "stdout",
     "output_type": "stream",
     "text": [
      "* Reshape\n",
      "(60000, 784)\n",
      "(10000, 784)\n",
      "* Normailze\n",
      "(60000, 784)\n",
      "(10000, 784)\n"
     ]
    }
   ],
   "source": [
    "x_train, x_test = preProcessing(img, img_test)"
   ]
  },
  {
   "cell_type": "markdown",
   "metadata": {},
   "source": [
    "----\n",
    "# [ 1 ]\n",
    "\n"
   ]
  },
  {
   "cell_type": "code",
   "execution_count": 6,
   "metadata": {},
   "outputs": [],
   "source": [
    "from tensorflow.keras import layers, models\n",
    "from functools import partial \n",
    "\n",
    "def make_model_1():\n",
    "    Dense = partial(layers.Dense,\n",
    "               activation='elu',\n",
    "               kernel_initializer='he_normal',\n",
    "               )\n",
    "\n",
    "    model = tf.keras.Sequential([\n",
    "        layers.InputLayer(input_shape=(28*28,)),\n",
    "        Dense(300),\n",
    "        Dense(100),\n",
    "        layers.Dense(10, activation='softmax')\n",
    "    ])\n",
    "\n",
    "    model.summary()\n",
    "    return model"
   ]
  },
  {
   "cell_type": "code",
   "execution_count": 7,
   "metadata": {},
   "outputs": [
    {
     "name": "stdout",
     "output_type": "stream",
     "text": [
      "Model: \"sequential\"\n",
      "_________________________________________________________________\n",
      "Layer (type)                 Output Shape              Param #   \n",
      "=================================================================\n",
      "dense (Dense)                (None, 300)               235500    \n",
      "_________________________________________________________________\n",
      "dense_1 (Dense)              (None, 100)               30100     \n",
      "_________________________________________________________________\n",
      "dense_2 (Dense)              (None, 10)                1010      \n",
      "=================================================================\n",
      "Total params: 266,610\n",
      "Trainable params: 266,610\n",
      "Non-trainable params: 0\n",
      "_________________________________________________________________\n",
      "Train on 48000 samples, validate on 12000 samples\n",
      "Epoch 1/10\n",
      "48000/48000 [==============================] - 4s 93us/sample - loss: 0.2562 - accuracy: 0.9227 - val_loss: 0.1402 - val_accuracy: 0.9580\n",
      "Epoch 2/10\n",
      "48000/48000 [==============================] - 4s 80us/sample - loss: 0.1142 - accuracy: 0.9644 - val_loss: 0.1191 - val_accuracy: 0.9640\n",
      "Epoch 3/10\n",
      "48000/48000 [==============================] - 4s 83us/sample - loss: 0.0798 - accuracy: 0.9753 - val_loss: 0.0993 - val_accuracy: 0.9706\n",
      "Epoch 4/10\n",
      "48000/48000 [==============================] - 4s 81us/sample - loss: 0.0622 - accuracy: 0.9802 - val_loss: 0.0946 - val_accuracy: 0.9732\n",
      "Epoch 5/10\n",
      "48000/48000 [==============================] - 4s 76us/sample - loss: 0.0468 - accuracy: 0.9846 - val_loss: 0.1080 - val_accuracy: 0.9715\n",
      "Epoch 6/10\n",
      "48000/48000 [==============================] - 4s 78us/sample - loss: 0.0396 - accuracy: 0.9876 - val_loss: 0.1028 - val_accuracy: 0.9740\n",
      "Epoch 7/10\n",
      "48000/48000 [==============================] - 4s 77us/sample - loss: 0.0311 - accuracy: 0.9893 - val_loss: 0.1070 - val_accuracy: 0.9732\n",
      "Epoch 8/10\n",
      "48000/48000 [==============================] - 4s 75us/sample - loss: 0.0257 - accuracy: 0.9915 - val_loss: 0.1039 - val_accuracy: 0.9758\n",
      "Epoch 9/10\n",
      "48000/48000 [==============================] - 4s 75us/sample - loss: 0.0248 - accuracy: 0.9918 - val_loss: 0.1342 - val_accuracy: 0.9722\n",
      "Epoch 10/10\n",
      "48000/48000 [==============================] - 4s 75us/sample - loss: 0.0203 - accuracy: 0.9930 - val_loss: 0.1280 - val_accuracy: 0.9742\n"
     ]
    },
    {
     "data": {
      "text/plain": [
       "<tensorflow.python.keras.callbacks.History at 0x15c263590>"
      ]
     },
     "execution_count": 7,
     "metadata": {},
     "output_type": "execute_result"
    }
   ],
   "source": [
    "#모델 생성\n",
    "model=make_model_1()\n",
    "\n",
    "# 모델 컴파일\n",
    "model.compile(loss=\"sparse_categorical_crossentropy\",\n",
    "              optimizer=tf.keras.optimizers.Adam(),\n",
    "              metrics=[\"accuracy\"])\n",
    "\n",
    "# 콜백 선언\n",
    "model_checkpoint_cb = tf.keras.callbacks.ModelCheckpoint('results_11-2/model_1.h5', save_best_only=True)\n",
    "\n",
    "# 모델 훈련\n",
    "model.fit(x_train, label, \n",
    "          validation_split=0.2,\n",
    "          epochs=10,\n",
    "          callbacks=[model_checkpoint_cb])"
   ]
  },
  {
   "cell_type": "markdown",
   "metadata": {},
   "source": [
    "----\n",
    "# [ 2 ] l1 norm"
   ]
  },
  {
   "cell_type": "code",
   "execution_count": 8,
   "metadata": {},
   "outputs": [],
   "source": [
    "def make_model_2():\n",
    "    Dense = partial(layers.Dense,\n",
    "               activation='elu',\n",
    "               kernel_initializer='he_normal',\n",
    "               kernel_regularizer=tf.keras.regularizers.l1(0.01))\n",
    "\n",
    "    model = tf.keras.Sequential([\n",
    "        layers.InputLayer(input_shape=(28*28,)),\n",
    "        Dense(300),\n",
    "        Dense(100),\n",
    "        layers.Dense(10, activation='softmax')\n",
    "    ])\n",
    "\n",
    "    model.summary()\n",
    "    return model"
   ]
  },
  {
   "cell_type": "markdown",
   "metadata": {},
   "source": [
    "* 콜백 ModelCheckpoint의 저장 이름을 **2_model.h5**로 바꿉니다.\n"
   ]
  },
  {
   "cell_type": "code",
   "execution_count": 9,
   "metadata": {},
   "outputs": [
    {
     "name": "stdout",
     "output_type": "stream",
     "text": [
      "Model: \"sequential_1\"\n",
      "_________________________________________________________________\n",
      "Layer (type)                 Output Shape              Param #   \n",
      "=================================================================\n",
      "dense_3 (Dense)              (None, 300)               235500    \n",
      "_________________________________________________________________\n",
      "dense_4 (Dense)              (None, 100)               30100     \n",
      "_________________________________________________________________\n",
      "dense_5 (Dense)              (None, 10)                1010      \n",
      "=================================================================\n",
      "Total params: 266,610\n",
      "Trainable params: 266,610\n",
      "Non-trainable params: 0\n",
      "_________________________________________________________________\n",
      "Train on 48000 samples, validate on 12000 samples\n",
      "Epoch 1/10\n",
      "48000/48000 [==============================] - 4s 83us/sample - loss: 4.7720 - accuracy: 0.7858 - val_loss: 1.4154 - val_accuracy: 0.8518\n",
      "Epoch 2/10\n",
      "48000/48000 [==============================] - 4s 79us/sample - loss: 1.3659 - accuracy: 0.8522 - val_loss: 1.2907 - val_accuracy: 0.8664\n",
      "Epoch 3/10\n",
      "48000/48000 [==============================] - 4s 78us/sample - loss: 1.2849 - accuracy: 0.8652 - val_loss: 1.2183 - val_accuracy: 0.8797\n",
      "Epoch 4/10\n",
      "48000/48000 [==============================] - 4s 78us/sample - loss: 1.2421 - accuracy: 0.8683 - val_loss: 1.2073 - val_accuracy: 0.8744\n",
      "Epoch 5/10\n",
      "48000/48000 [==============================] - 4s 79us/sample - loss: 1.2058 - accuracy: 0.8710 - val_loss: 1.1799 - val_accuracy: 0.8755\n",
      "Epoch 6/10\n",
      "48000/48000 [==============================] - 4s 79us/sample - loss: 1.1851 - accuracy: 0.8720 - val_loss: 1.1671 - val_accuracy: 0.8646\n",
      "Epoch 7/10\n",
      "48000/48000 [==============================] - 4s 78us/sample - loss: 1.1650 - accuracy: 0.8722 - val_loss: 1.1302 - val_accuracy: 0.8788\n",
      "Epoch 8/10\n",
      "48000/48000 [==============================] - 4s 79us/sample - loss: 1.1542 - accuracy: 0.8724 - val_loss: 1.1273 - val_accuracy: 0.8728\n",
      "Epoch 9/10\n",
      "48000/48000 [==============================] - 4s 80us/sample - loss: 1.1391 - accuracy: 0.8719 - val_loss: 1.1238 - val_accuracy: 0.8767\n",
      "Epoch 10/10\n",
      "48000/48000 [==============================] - 4s 77us/sample - loss: 1.1340 - accuracy: 0.8729 - val_loss: 1.1149 - val_accuracy: 0.8802\n"
     ]
    },
    {
     "data": {
      "text/plain": [
       "<tensorflow.python.keras.callbacks.History at 0x107edadd0>"
      ]
     },
     "execution_count": 9,
     "metadata": {},
     "output_type": "execute_result"
    }
   ],
   "source": [
    "#모델 생성\n",
    "model=make_model_2()\n",
    "\n",
    "# 모델 컴파일\n",
    "model.compile(loss=\"sparse_categorical_crossentropy\",\n",
    "              optimizer=tf.keras.optimizers.Adam(),\n",
    "              metrics=[\"accuracy\"])\n",
    "\n",
    "# 콜백 선언\n",
    "model_checkpoint_cb = tf.keras.callbacks.ModelCheckpoint('results_11-2/model_2.h5', save_best_only=True)\n",
    "\n",
    "# 모델 훈련\n",
    "model.fit(x_train, label, \n",
    "          validation_split=0.2,\n",
    "          epochs=10,\n",
    "          callbacks=[model_checkpoint_cb])"
   ]
  },
  {
   "cell_type": "markdown",
   "metadata": {},
   "source": [
    "----\n",
    "# [  3 ]  l2 norm"
   ]
  },
  {
   "cell_type": "code",
   "execution_count": 10,
   "metadata": {},
   "outputs": [],
   "source": [
    "def make_model_3():\n",
    "    Dense = partial(layers.Dense,\n",
    "               activation='elu',\n",
    "               kernel_initializer='he_normal',\n",
    "               kernel_regularizer=tf.keras.regularizers.l2(0.01))\n",
    "\n",
    "    model = tf.keras.Sequential([\n",
    "        layers.InputLayer(input_shape=(28*28,)),\n",
    "        Dense(300),\n",
    "        Dense(100),\n",
    "        layers.Dense(10, activation='softmax')\n",
    "    ])\n",
    "\n",
    "    model.summary()\n",
    "    return model"
   ]
  },
  {
   "cell_type": "markdown",
   "metadata": {},
   "source": [
    "* 콜백 ModelCheckpoint의 저장 이름을 **3_model.h5**로 바꿉니다."
   ]
  },
  {
   "cell_type": "code",
   "execution_count": 11,
   "metadata": {},
   "outputs": [
    {
     "name": "stdout",
     "output_type": "stream",
     "text": [
      "Model: \"sequential_2\"\n",
      "_________________________________________________________________\n",
      "Layer (type)                 Output Shape              Param #   \n",
      "=================================================================\n",
      "dense_6 (Dense)              (None, 300)               235500    \n",
      "_________________________________________________________________\n",
      "dense_7 (Dense)              (None, 100)               30100     \n",
      "_________________________________________________________________\n",
      "dense_8 (Dense)              (None, 10)                1010      \n",
      "=================================================================\n",
      "Total params: 266,610\n",
      "Trainable params: 266,610\n",
      "Non-trainable params: 0\n",
      "_________________________________________________________________\n",
      "Train on 48000 samples, validate on 12000 samples\n",
      "Epoch 1/10\n",
      "48000/48000 [==============================] - 4s 84us/sample - loss: 1.1362 - accuracy: 0.8723 - val_loss: 0.5734 - val_accuracy: 0.8973\n",
      "Epoch 2/10\n",
      "48000/48000 [==============================] - 4s 84us/sample - loss: 0.5580 - accuracy: 0.8955 - val_loss: 0.5338 - val_accuracy: 0.8993\n",
      "Epoch 3/10\n",
      "48000/48000 [==============================] - 5s 98us/sample - loss: 0.4974 - accuracy: 0.9106 - val_loss: 0.4468 - val_accuracy: 0.9234\n",
      "Epoch 4/10\n",
      "48000/48000 [==============================] - 5s 105us/sample - loss: 0.4613 - accuracy: 0.9175 - val_loss: 0.4335 - val_accuracy: 0.9275\n",
      "Epoch 5/10\n",
      "48000/48000 [==============================] - 5s 102us/sample - loss: 0.4414 - accuracy: 0.9221 - val_loss: 0.4021 - val_accuracy: 0.9340\n",
      "Epoch 6/10\n",
      "48000/48000 [==============================] - 5s 101us/sample - loss: 0.4328 - accuracy: 0.9232 - val_loss: 0.4918 - val_accuracy: 0.9131\n",
      "Epoch 7/10\n",
      "48000/48000 [==============================] - 4s 86us/sample - loss: 0.4227 - accuracy: 0.9247 - val_loss: 0.4596 - val_accuracy: 0.9131\n",
      "Epoch 8/10\n",
      "48000/48000 [==============================] - 4s 90us/sample - loss: 0.4183 - accuracy: 0.9270 - val_loss: 0.3963 - val_accuracy: 0.9310\n",
      "Epoch 9/10\n",
      "48000/48000 [==============================] - 5s 94us/sample - loss: 0.4122 - accuracy: 0.9266 - val_loss: 0.4013 - val_accuracy: 0.9293\n",
      "Epoch 10/10\n",
      "48000/48000 [==============================] - 5s 94us/sample - loss: 0.4072 - accuracy: 0.9287 - val_loss: 0.4134 - val_accuracy: 0.9283\n"
     ]
    },
    {
     "data": {
      "text/plain": [
       "<tensorflow.python.keras.callbacks.History at 0x15d04e650>"
      ]
     },
     "execution_count": 11,
     "metadata": {},
     "output_type": "execute_result"
    }
   ],
   "source": [
    "#모델 생성\n",
    "model=make_model_3()\n",
    "\n",
    "# 모델 컴파일\n",
    "model.compile(loss=\"sparse_categorical_crossentropy\",\n",
    "              optimizer=tf.keras.optimizers.Adam(),\n",
    "              metrics=[\"accuracy\"])\n",
    "\n",
    "# 콜백 선언\n",
    "model_checkpoint_cb = tf.keras.callbacks.ModelCheckpoint('results_11-2/model_3.h5', save_best_only=True)\n",
    "\n",
    "# 모델 훈련\n",
    "model.fit(x_train, label, \n",
    "          validation_split=0.2,\n",
    "          epochs=10,\n",
    "          callbacks=[model_checkpoint_cb])"
   ]
  },
  {
   "cell_type": "markdown",
   "metadata": {},
   "source": [
    "----\n",
    "# [  4 ] DropOut"
   ]
  },
  {
   "cell_type": "code",
   "execution_count": 12,
   "metadata": {},
   "outputs": [],
   "source": [
    "def make_model_4():\n",
    "    Dense = partial(layers.Dense,\n",
    "               activation='elu',\n",
    "               kernel_initializer='he_normal',\n",
    "               kernel_regularizer=tf.keras.regularizers.l2(0.01))\n",
    "\n",
    "    model = tf.keras.Sequential([\n",
    "        layers.InputLayer(input_shape=(28*28,)),\n",
    "        Dense(300),\n",
    "        layers.Dropout(rate=0.2),\n",
    "        Dense(100),\n",
    "        layers.Dropout(rate=0.2),\n",
    "        layers.Dense(10, activation='softmax')\n",
    "    ])\n",
    "\n",
    "    model.summary()\n",
    "    return model"
   ]
  },
  {
   "cell_type": "markdown",
   "metadata": {},
   "source": [
    "* 콜백 ModelCheckpoint의 저장 이름을 **4_model.h5**로 바꿉니다.\n"
   ]
  },
  {
   "cell_type": "code",
   "execution_count": 13,
   "metadata": {},
   "outputs": [
    {
     "name": "stdout",
     "output_type": "stream",
     "text": [
      "Model: \"sequential_3\"\n",
      "_________________________________________________________________\n",
      "Layer (type)                 Output Shape              Param #   \n",
      "=================================================================\n",
      "dense_9 (Dense)              (None, 300)               235500    \n",
      "_________________________________________________________________\n",
      "dropout (Dropout)            (None, 300)               0         \n",
      "_________________________________________________________________\n",
      "dense_10 (Dense)             (None, 100)               30100     \n",
      "_________________________________________________________________\n",
      "dropout_1 (Dropout)          (None, 100)               0         \n",
      "_________________________________________________________________\n",
      "dense_11 (Dense)             (None, 10)                1010      \n",
      "=================================================================\n",
      "Total params: 266,610\n",
      "Trainable params: 266,610\n",
      "Non-trainable params: 0\n",
      "_________________________________________________________________\n",
      "Train on 48000 samples, validate on 12000 samples\n",
      "Epoch 1/10\n",
      "48000/48000 [==============================] - 5s 102us/sample - loss: 1.2275 - accuracy: 0.8612 - val_loss: 0.6500 - val_accuracy: 0.8776\n",
      "Epoch 2/10\n",
      "48000/48000 [==============================] - 4s 92us/sample - loss: 0.6445 - accuracy: 0.8800 - val_loss: 0.5790 - val_accuracy: 0.8934\n",
      "Epoch 3/10\n",
      "48000/48000 [==============================] - 4s 87us/sample - loss: 0.6061 - accuracy: 0.8846 - val_loss: 0.5390 - val_accuracy: 0.9095\n",
      "Epoch 4/10\n",
      "48000/48000 [==============================] - 4s 94us/sample - loss: 0.5926 - accuracy: 0.8861 - val_loss: 0.5219 - val_accuracy: 0.9091\n",
      "Epoch 5/10\n",
      "48000/48000 [==============================] - 4s 94us/sample - loss: 0.5813 - accuracy: 0.8867 - val_loss: 0.4986 - val_accuracy: 0.9152\n",
      "Epoch 6/10\n",
      "48000/48000 [==============================] - 4s 90us/sample - loss: 0.5809 - accuracy: 0.8882 - val_loss: 0.5335 - val_accuracy: 0.8939\n",
      "Epoch 7/10\n",
      "48000/48000 [==============================] - 4s 90us/sample - loss: 0.5681 - accuracy: 0.8904 - val_loss: 0.5064 - val_accuracy: 0.9076\n",
      "Epoch 8/10\n",
      "48000/48000 [==============================] - 4s 85us/sample - loss: 0.5706 - accuracy: 0.8891 - val_loss: 0.4789 - val_accuracy: 0.9178\n",
      "Epoch 9/10\n",
      "48000/48000 [==============================] - 4s 89us/sample - loss: 0.5605 - accuracy: 0.8918 - val_loss: 0.4780 - val_accuracy: 0.9180\n",
      "Epoch 10/10\n",
      "48000/48000 [==============================] - 4s 88us/sample - loss: 0.5673 - accuracy: 0.8889 - val_loss: 0.5031 - val_accuracy: 0.9092\n"
     ]
    },
    {
     "data": {
      "text/plain": [
       "<tensorflow.python.keras.callbacks.History at 0x15da02590>"
      ]
     },
     "execution_count": 13,
     "metadata": {},
     "output_type": "execute_result"
    }
   ],
   "source": [
    "#모델 생성\n",
    "model=make_model_4()\n",
    "\n",
    "# 모델 컴파일\n",
    "model.compile(loss=\"sparse_categorical_crossentropy\",\n",
    "              optimizer=tf.keras.optimizers.Adam(),\n",
    "              metrics=[\"accuracy\"])\n",
    "\n",
    "# 콜백 선언\n",
    "model_checkpoint_cb = tf.keras.callbacks.ModelCheckpoint('results_11-2/model_4.h5', save_best_only=True)\n",
    "\n",
    "# 모델 훈련\n",
    "model.fit(x_train, label, \n",
    "          validation_split=0.2,\n",
    "          epochs=10,\n",
    "          callbacks=[model_checkpoint_cb])"
   ]
  },
  {
   "cell_type": "markdown",
   "metadata": {},
   "source": [
    "# [ 5 ]\n",
    "\n",
    "* 지금까지 만든 4가지 모델을 불러오고 평가해 봅니다.\n",
    "* **tf.keras.models.load_model( )**을 통해 모델을 불러올 수 있습니다.\n",
    "* **model.evaluate( )**를 통해 모든 모델을 평가해 봅니다.\n",
    "* 불러오기 전에 아래 셀에서 각 모델의 특징을 간단히 메모하세요"
   ]
  },
  {
   "cell_type": "markdown",
   "metadata": {},
   "source": [
    "* model_1: activation = elu, initializer = he, optimizer = adam\n",
    "* model_2: model 1 + regularizer = l1 (0.01)\n",
    "* model_3: model 1 + regularizer = l2 (0.01)\n",
    "* model_4: model 3 + dropout (0.2)"
   ]
  },
  {
   "cell_type": "code",
   "execution_count": 14,
   "metadata": {},
   "outputs": [],
   "source": [
    "# 모델 불러오기\n",
    "\n",
    "model_1 = tf.keras.models.load_model(\"results_11-2/model_1.h5\")\n",
    "model_2 = tf.keras.models.load_model(\"results_11-2/model_2.h5\")\n",
    "model_3 = tf.keras.models.load_model(\"results_11-2/model_3.h5\")\n",
    "model_4 = tf.keras.models.load_model(\"results_11-2/model_4.h5\")\n"
   ]
  },
  {
   "cell_type": "code",
   "execution_count": 15,
   "metadata": {},
   "outputs": [
    {
     "name": "stdout",
     "output_type": "stream",
     "text": [
      "10000/10000 [==============================] - 1s 54us/sample - loss: 0.0822 - accuracy: 0.9746\n",
      "10000/10000 [==============================] - 1s 51us/sample - loss: 1.1229 - accuracy: 0.8758\n",
      "10000/10000 [==============================] - 1s 59us/sample - loss: 0.3932 - accuracy: 0.9312\n",
      "10000/10000 [==============================] - 0s 49us/sample - loss: 0.4852 - accuracy: 0.9102\n"
     ]
    },
    {
     "data": {
      "text/plain": [
       "[0.48520038475990296, 0.9102]"
      ]
     },
     "execution_count": 15,
     "metadata": {},
     "output_type": "execute_result"
    }
   ],
   "source": [
    "# 모델 평가\n",
    "\n",
    "model_1.evaluate(x_test, label_test)\n",
    "model_2.evaluate(x_test, label_test)\n",
    "model_3.evaluate(x_test, label_test)\n",
    "model_4.evaluate(x_test, label_test)\n"
   ]
  },
  {
   "cell_type": "markdown",
   "metadata": {},
   "source": [
    "왜 regularizer와 dropout을 쓰지 않았을 때 더욱 모델이 좋은 걸까요?????"
   ]
  },
  {
   "cell_type": "code",
   "execution_count": null,
   "metadata": {},
   "outputs": [],
   "source": []
  }
 ],
 "metadata": {
  "kernelspec": {
   "display_name": "Python 3",
   "language": "python",
   "name": "python3"
  },
  "language_info": {
   "codemirror_mode": {
    "name": "ipython",
    "version": 3
   },
   "file_extension": ".py",
   "mimetype": "text/x-python",
   "name": "python",
   "nbconvert_exporter": "python",
   "pygments_lexer": "ipython3",
   "version": "3.7.7"
  },
  "toc": {
   "base_numbering": 1,
   "nav_menu": {},
   "number_sections": true,
   "sideBar": true,
   "skip_h1_title": false,
   "title_cell": "Table of Contents",
   "title_sidebar": "Contents",
   "toc_cell": false,
   "toc_position": {},
   "toc_section_display": true,
   "toc_window_display": false
  },
  "varInspector": {
   "cols": {
    "lenName": 16,
    "lenType": 16,
    "lenVar": 40
   },
   "kernels_config": {
    "python": {
     "delete_cmd_postfix": "",
     "delete_cmd_prefix": "del ",
     "library": "var_list.py",
     "varRefreshCmd": "print(var_dic_list())"
    },
    "r": {
     "delete_cmd_postfix": ") ",
     "delete_cmd_prefix": "rm(",
     "library": "var_list.r",
     "varRefreshCmd": "cat(var_dic_list()) "
    }
   },
   "types_to_exclude": [
    "module",
    "function",
    "builtin_function_or_method",
    "instance",
    "_Feature"
   ],
   "window_display": false
  }
 },
 "nbformat": 4,
 "nbformat_minor": 4
}
