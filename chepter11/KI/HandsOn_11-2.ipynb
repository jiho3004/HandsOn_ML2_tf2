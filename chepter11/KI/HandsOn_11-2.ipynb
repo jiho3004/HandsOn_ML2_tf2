{
 "cells": [
  {
   "cell_type": "markdown",
   "metadata": {},
   "source": [
    "# 11장\n",
    "### 11.4\n",
    "----\n",
    "\n",
    "### l1, l2, Dropout\n",
    "\n",
    "----"
   ]
  },
  {
   "cell_type": "code",
   "execution_count": 1,
   "metadata": {},
   "outputs": [],
   "source": [
    "import tensorflow as tf\n",
    "import numpy as np\n",
    "import matplotlib.pyplot as plt\n",
    "\n",
    "def draw_image(img):\n",
    "    plt.imshow(img, cmap='gray')\n",
    "    #plt.title(img)\n",
    "    plt.show()"
   ]
  },
  {
   "cell_type": "markdown",
   "metadata": {},
   "source": [
    "# [ 0 ] 데이터셋 준비\n",
    "\n",
    "* MNIST 데이터셋을 불러오세요. tf.keras.datasets.mnist.load_data()를 사용하여 데이터를 적재할 수 있습니다.\n",
    "* 데이터셋의 차원을 확인해봅시다."
   ]
  },
  {
   "cell_type": "code",
   "execution_count": 2,
   "metadata": {},
   "outputs": [
    {
     "name": "stdout",
     "output_type": "stream",
     "text": [
      "* Load\n",
      "Train set:  (60000, 28, 28) [  0   0   0   0   0   0   0   0   0  14   1 154 253  90   0   0   0   0\n",
      "   0   0   0   0   0   0   0   0   0   0]\n",
      "Test set:  (10000, 28, 28) [  0   0   0   0   0   0   0   0   0   0   0  17  66  14  67  67  67  59\n",
      "  21 236 254 106   0   0   0   0   0   0]\n"
     ]
    }
   ],
   "source": [
    "# load\n",
    "(img, y_train), (img_test, y_test) = tf.keras.datasets.mnist.load_data()\n",
    "print('* Load')\n",
    "print('Train set: ', img.shape, img[0][10])\n",
    "print('Test set: ', img_test.shape, img_test[0][10])"
   ]
  },
  {
   "cell_type": "code",
   "execution_count": 3,
   "metadata": {},
   "outputs": [
    {
     "data": {
      "image/png": "[encoded data removed]",
      "text/plain": [
       "<Figure size 432x288 with 1 Axes>"
      ]
     },
     "metadata": {
      "needs_background": "light"
     },
     "output_type": "display_data"
    }
   ],
   "source": [
    "draw_image(img[0])"
   ]
  },
  {
   "cell_type": "markdown",
   "metadata": {},
   "source": [
    "* 불러온 이미지을 **preProcessing** 함수를 통해 데이터셋으로 전환합시다."
   ]
  },
  {
   "cell_type": "code",
   "execution_count": 66,
   "metadata": {},
   "outputs": [],
   "source": [
    "def preProcessing(img, img_test):\n",
    "\n",
    "    # reshape\n",
    "    \n",
    "    x_train = np.reshape(img, (60000, 28*28))\n",
    "    x_test = np.reshape(img_test, (10000, 28*28))\n",
    "\n",
    "    print('* Flatten')\n",
    "    print(x_train.shape, x_train[0][300:328])\n",
    "\n",
    "    # Normalize\n",
    "    \n",
    "    x_train = x_train/255\n",
    "    x_test = x_test/255\n",
    "    \n",
    "    print('* Normailze')\n",
    "    print(x_train.shape, x_train[0][300:328])\n",
    "    \n",
    "    return x_train, x_test"
   ]
  },
  {
   "cell_type": "code",
   "execution_count": 67,
   "metadata": {},
   "outputs": [
    {
     "name": "stdout",
     "output_type": "stream",
     "text": [
      "* Flatten\n",
      "(60000, 784) [  0   0   0   0   0   0   0   0   0   0   0   0   0   0   0   0   0   0\n",
      "   0 139 253 190   2   0   0   0   0   0]\n",
      "* Normailze\n",
      "(60000, 784) [0.         0.         0.         0.         0.         0.\n",
      " 0.         0.         0.         0.         0.         0.\n",
      " 0.         0.         0.         0.         0.         0.\n",
      " 0.         0.54509804 0.99215686 0.74509804 0.00784314 0.\n",
      " 0.         0.         0.         0.        ]\n"
     ]
    }
   ],
   "source": [
    "x_train, x_test = preProcessing(img, img_test)"
   ]
  },
  {
   "cell_type": "markdown",
   "metadata": {},
   "source": [
    "----\n",
    "# [ 1 ]\n",
    "\n"
   ]
  },
  {
   "cell_type": "code",
   "execution_count": 68,
   "metadata": {},
   "outputs": [],
   "source": [
    "from tensorflow.keras import layers, models\n",
    "from functools import partial\n",
    "\n",
    "def make_model_1():\n",
    "    Dense = partial(layers.Dense,\n",
    "               activation='elu',\n",
    "               kernel_initializer='he_normal',\n",
    "               )\n",
    "\n",
    "    model = tf.keras.Sequential([\n",
    "        layers.InputLayer(input_shape=(28*28,)),\n",
    "        Dense(300),\n",
    "        Dense(100),\n",
    "        layers.Dense(10, activation='softmax')\n",
    "    ])\n",
    "\n",
    "    model.summary() \n",
    "    \n",
    "    return model"
   ]
  },
  {
   "cell_type": "code",
   "execution_count": 83,
   "metadata": {},
   "outputs": [
    {
     "name": "stdout",
     "output_type": "stream",
     "text": [
      "Model: \"sequential_14\"\n",
      "_________________________________________________________________\n",
      "Layer (type)                 Output Shape              Param #   \n",
      "=================================================================\n",
      "dense_42 (Dense)             (None, 300)               235500    \n",
      "_________________________________________________________________\n",
      "dense_43 (Dense)             (None, 100)               30100     \n",
      "_________________________________________________________________\n",
      "dense_44 (Dense)             (None, 10)                1010      \n",
      "=================================================================\n",
      "Total params: 266,610\n",
      "Trainable params: 266,610\n",
      "Non-trainable params: 0\n",
      "_________________________________________________________________\n",
      "Epoch 1/10\n",
      "1500/1500 [==============================] - 3s 2ms/step - loss: 0.2418 - accuracy: 0.9259 - val_loss: 0.1320 - val_accuracy: 0.9605\n",
      "Epoch 2/10\n",
      "1500/1500 [==============================] - 3s 2ms/step - loss: 0.1056 - accuracy: 0.9671 - val_loss: 0.1156 - val_accuracy: 0.9666\n",
      "Epoch 3/10\n",
      "1500/1500 [==============================] - 3s 2ms/step - loss: 0.0762 - accuracy: 0.9758 - val_loss: 0.1116 - val_accuracy: 0.9649\n",
      "Epoch 4/10\n",
      "1500/1500 [==============================] - 3s 2ms/step - loss: 0.0559 - accuracy: 0.9815 - val_loss: 0.1002 - val_accuracy: 0.9722\n",
      "Epoch 5/10\n",
      "1500/1500 [==============================] - 3s 2ms/step - loss: 0.0441 - accuracy: 0.9856 - val_loss: 0.0899 - val_accuracy: 0.9756\n",
      "Epoch 6/10\n",
      "1500/1500 [==============================] - 3s 2ms/step - loss: 0.0344 - accuracy: 0.9888 - val_loss: 0.1054 - val_accuracy: 0.9754\n",
      "Epoch 7/10\n",
      "1500/1500 [==============================] - 3s 2ms/step - loss: 0.0314 - accuracy: 0.9895 - val_loss: 0.0974 - val_accuracy: 0.9767\n",
      "Epoch 8/10\n",
      "1500/1500 [==============================] - 3s 2ms/step - loss: 0.0245 - accuracy: 0.9915 - val_loss: 0.1091 - val_accuracy: 0.9775\n",
      "Epoch 9/10\n",
      "1500/1500 [==============================] - 3s 2ms/step - loss: 0.0222 - accuracy: 0.9931 - val_loss: 0.1007 - val_accuracy: 0.9776\n",
      "Epoch 10/10\n",
      "1500/1500 [==============================] - 3s 2ms/step - loss: 0.0229 - accuracy: 0.9924 - val_loss: 0.1349 - val_accuracy: 0.9754\n"
     ]
    },
    {
     "data": {
      "text/plain": [
       "<tensorflow.python.keras.callbacks.History at 0x7ff9a7ec5dc0>"
      ]
     },
     "execution_count": 83,
     "metadata": {},
     "output_type": "execute_result"
    }
   ],
   "source": [
    "#모델 생성\n",
    "model_1=make_model_1()\n",
    "\n",
    "# 모델 컴파일\n",
    "model_1.compile(loss=\"sparse_categorical_crossentropy\",\n",
    "              optimizer=tf.keras.optimizers.Adam(),\n",
    "              metrics=[\"accuracy\"])\n",
    "\n",
    "# 콜백 선언\n",
    "model_checkpoint_cb = tf.keras.callbacks.ModelCheckpoint('model_1.h5', save_best_only=True)\n",
    "\n",
    "# 모델 훈련\n",
    "model_1.fit(x_train, y_train, \n",
    "          validation_split=0.2,\n",
    "          epochs=10,\n",
    "          callbacks=[model_checkpoint_cb])"
   ]
  },
  {
   "cell_type": "markdown",
   "metadata": {},
   "source": [
    "----\n",
    "# [ 2 ] l1 norm"
   ]
  },
  {
   "cell_type": "code",
   "execution_count": 84,
   "metadata": {},
   "outputs": [],
   "source": [
    "def make_model_2():\n",
    "    Dense = partial(layers.Dense,\n",
    "               activation='elu',\n",
    "               kernel_initializer='he_normal',\n",
    "               kernel_regularizer=tf.keras.regularizers.l1(0.01)\n",
    "               )\n",
    "\n",
    "    model = tf.keras.Sequential([\n",
    "        layers.InputLayer(input_shape=(28*28,)),\n",
    "        Dense(300),\n",
    "        Dense(100),\n",
    "        layers.Dense(10, activation='softmax')\n",
    "    ])\n",
    "\n",
    "    model.summary() \n",
    "\n",
    "    return model\n"
   ]
  },
  {
   "cell_type": "markdown",
   "metadata": {},
   "source": [
    "* 콜백 ModelCheckpoint의 저장 이름을 **2_model.h5**로 바꿉니다.\n"
   ]
  },
  {
   "cell_type": "code",
   "execution_count": 85,
   "metadata": {},
   "outputs": [
    {
     "name": "stdout",
     "output_type": "stream",
     "text": [
      "Model: \"sequential_15\"\n",
      "_________________________________________________________________\n",
      "Layer (type)                 Output Shape              Param #   \n",
      "=================================================================\n",
      "dense_45 (Dense)             (None, 300)               235500    \n",
      "_________________________________________________________________\n",
      "dense_46 (Dense)             (None, 100)               30100     \n",
      "_________________________________________________________________\n",
      "dense_47 (Dense)             (None, 10)                1010      \n",
      "=================================================================\n",
      "Total params: 266,610\n",
      "Trainable params: 266,610\n",
      "Non-trainable params: 0\n",
      "_________________________________________________________________\n",
      "Epoch 1/10\n",
      "1500/1500 [==============================] - 4s 3ms/step - loss: 4.8280 - accuracy: 0.7745 - val_loss: 1.3990 - val_accuracy: 0.8436\n",
      "Epoch 2/10\n",
      "1500/1500 [==============================] - 3s 2ms/step - loss: 1.3583 - accuracy: 0.8447 - val_loss: 1.2946 - val_accuracy: 0.8570\n",
      "Epoch 3/10\n",
      "1500/1500 [==============================] - 3s 2ms/step - loss: 1.2779 - accuracy: 0.8585 - val_loss: 1.2423 - val_accuracy: 0.8670\n",
      "Epoch 4/10\n",
      "1500/1500 [==============================] - 3s 2ms/step - loss: 1.2337 - accuracy: 0.8659 - val_loss: 1.2173 - val_accuracy: 0.8722\n",
      "Epoch 5/10\n",
      "1500/1500 [==============================] - 3s 2ms/step - loss: 1.2030 - accuracy: 0.8687 - val_loss: 1.1588 - val_accuracy: 0.8734\n",
      "Epoch 6/10\n",
      "1500/1500 [==============================] - 3s 2ms/step - loss: 1.1757 - accuracy: 0.8702 - val_loss: 1.1151 - val_accuracy: 0.8873\n",
      "Epoch 7/10\n",
      "1500/1500 [==============================] - 4s 2ms/step - loss: 1.1550 - accuracy: 0.8726 - val_loss: 1.1349 - val_accuracy: 0.8785\n",
      "Epoch 8/10\n",
      "1500/1500 [==============================] - 3s 2ms/step - loss: 1.1350 - accuracy: 0.8717 - val_loss: 1.0824 - val_accuracy: 0.8858\n",
      "Epoch 9/10\n",
      "1500/1500 [==============================] - 3s 2ms/step - loss: 1.1290 - accuracy: 0.8740 - val_loss: 1.0776 - val_accuracy: 0.8872\n",
      "Epoch 10/10\n",
      "1500/1500 [==============================] - 3s 2ms/step - loss: 1.1168 - accuracy: 0.8741 - val_loss: 1.0713 - val_accuracy: 0.8857\n"
     ]
    },
    {
     "data": {
      "text/plain": [
       "<tensorflow.python.keras.callbacks.History at 0x7ff9c90f0310>"
      ]
     },
     "execution_count": 85,
     "metadata": {},
     "output_type": "execute_result"
    }
   ],
   "source": [
    "#모델 생성\n",
    "model_2=make_model_2()\n",
    "\n",
    "# 모델 컴파일\n",
    "model_2.compile(loss=\"sparse_categorical_crossentropy\",\n",
    "              optimizer=tf.keras.optimizers.Adam(),\n",
    "              metrics=[\"accuracy\"])\n",
    "\n",
    "# 콜백 선언\n",
    "model_checkpoint_cb = tf.keras.callbacks.ModelCheckpoint('model_2.h5', save_best_only=True)\n",
    "\n",
    "# 모델 훈련\n",
    "model_2.fit(x_train, y_train, \n",
    "          validation_split=0.2,\n",
    "          epochs=10,\n",
    "          callbacks=[model_checkpoint_cb])"
   ]
  },
  {
   "cell_type": "markdown",
   "metadata": {},
   "source": [
    "----\n",
    "# [  3 ]  l2 norm"
   ]
  },
  {
   "cell_type": "code",
   "execution_count": 86,
   "metadata": {},
   "outputs": [],
   "source": [
    "def make_model_3():\n",
    "    Dense = partial(layers.Dense,\n",
    "               activation='elu',\n",
    "               kernel_initializer='he_normal',\n",
    "               kernel_regularizer=tf.keras.regularizers.l2(0.01)\n",
    "               )\n",
    "\n",
    "    model = tf.keras.Sequential([\n",
    "        layers.InputLayer(input_shape=(28*28,)),\n",
    "        Dense(300),\n",
    "        Dense(100),\n",
    "        layers.Dense(10, activation='softmax')\n",
    "    ])\n",
    "\n",
    "    model.summary() \n",
    "    \n",
    "    \n",
    "    return model"
   ]
  },
  {
   "cell_type": "markdown",
   "metadata": {},
   "source": [
    "* 콜백 ModelCheckpoint의 저장 이름을 **3_model.h5**로 바꿉니다."
   ]
  },
  {
   "cell_type": "code",
   "execution_count": 87,
   "metadata": {},
   "outputs": [
    {
     "name": "stdout",
     "output_type": "stream",
     "text": [
      "Model: \"sequential_16\"\n",
      "_________________________________________________________________\n",
      "Layer (type)                 Output Shape              Param #   \n",
      "=================================================================\n",
      "dense_48 (Dense)             (None, 300)               235500    \n",
      "_________________________________________________________________\n",
      "dense_49 (Dense)             (None, 100)               30100     \n",
      "_________________________________________________________________\n",
      "dense_50 (Dense)             (None, 10)                1010      \n",
      "=================================================================\n",
      "Total params: 266,610\n",
      "Trainable params: 266,610\n",
      "Non-trainable params: 0\n",
      "_________________________________________________________________\n",
      "Epoch 1/10\n",
      "1500/1500 [==============================] - 4s 3ms/step - loss: 1.1047 - accuracy: 0.8739 - val_loss: 0.5693 - val_accuracy: 0.8979\n",
      "Epoch 2/10\n",
      "1500/1500 [==============================] - 3s 2ms/step - loss: 0.5528 - accuracy: 0.8988 - val_loss: 0.4802 - val_accuracy: 0.9218\n",
      "Epoch 3/10\n",
      "1500/1500 [==============================] - 3s 2ms/step - loss: 0.4928 - accuracy: 0.9123 - val_loss: 0.4789 - val_accuracy: 0.9090\n",
      "Epoch 4/10\n",
      "1500/1500 [==============================] - 3s 2ms/step - loss: 0.4582 - accuracy: 0.9200 - val_loss: 0.4285 - val_accuracy: 0.9260\n",
      "Epoch 5/10\n",
      "1500/1500 [==============================] - 4s 2ms/step - loss: 0.4448 - accuracy: 0.9224 - val_loss: 0.4091 - val_accuracy: 0.9352\n",
      "Epoch 6/10\n",
      "1500/1500 [==============================] - 3s 2ms/step - loss: 0.4287 - accuracy: 0.9248 - val_loss: 0.4316 - val_accuracy: 0.9252\n",
      "Epoch 7/10\n",
      "1500/1500 [==============================] - 3s 2ms/step - loss: 0.4285 - accuracy: 0.9255 - val_loss: 0.4223 - val_accuracy: 0.9253\n",
      "Epoch 8/10\n",
      "1500/1500 [==============================] - 3s 2ms/step - loss: 0.4108 - accuracy: 0.9281 - val_loss: 0.3623 - val_accuracy: 0.9444\n",
      "Epoch 9/10\n",
      "1500/1500 [==============================] - 4s 2ms/step - loss: 0.4164 - accuracy: 0.9276 - val_loss: 0.3728 - val_accuracy: 0.9384\n",
      "Epoch 10/10\n",
      "1500/1500 [==============================] - 4s 2ms/step - loss: 0.4044 - accuracy: 0.9294 - val_loss: 0.3770 - val_accuracy: 0.9388\n"
     ]
    },
    {
     "data": {
      "text/plain": [
       "<tensorflow.python.keras.callbacks.History at 0x7ff9c9c72df0>"
      ]
     },
     "execution_count": 87,
     "metadata": {},
     "output_type": "execute_result"
    }
   ],
   "source": [
    "#모델 생성\n",
    "model_3=make_model_3()\n",
    "\n",
    "# 모델 컴파일\n",
    "model_3.compile(loss=\"sparse_categorical_crossentropy\",\n",
    "              optimizer=tf.keras.optimizers.Adam(),\n",
    "              metrics=[\"accuracy\"])\n",
    "\n",
    "# 콜백 선언\n",
    "model_checkpoint_cb = tf.keras.callbacks.ModelCheckpoint('model_3.h5', save_best_only=True)\n",
    "\n",
    "# 모델 훈련\n",
    "model_3.fit(x_train, y_train, \n",
    "          validation_split=0.2,\n",
    "          epochs=10,\n",
    "          callbacks=[model_checkpoint_cb])\n"
   ]
  },
  {
   "cell_type": "markdown",
   "metadata": {},
   "source": [
    "----\n",
    "# [  4 ] DropOut"
   ]
  },
  {
   "cell_type": "code",
   "execution_count": 88,
   "metadata": {},
   "outputs": [],
   "source": [
    "def make_model_4():\n",
    "    Dense = partial(layers.Dense,\n",
    "               activation='elu',\n",
    "               kernel_initializer='he_normal'\n",
    "               )\n",
    "\n",
    "    model = tf.keras.Sequential([\n",
    "        layers.InputLayer(input_shape=(28*28,)),\n",
    "        tf.keras.layers.Dropout(rate=0.2),\n",
    "        Dense(300),\n",
    "        tf.keras.layers.Dropout(rate=0.2),\n",
    "        Dense(100),\n",
    "        tf.keras.layers.Dropout(rate=0.2),\n",
    "        layers.Dense(10, activation='softmax')\n",
    "    ])\n",
    "\n",
    "    model.summary() \n",
    "    \n",
    "    \n",
    "    return model"
   ]
  },
  {
   "cell_type": "markdown",
   "metadata": {},
   "source": [
    "* 콜백 ModelCheckpoint의 저장 이름을 **4_model.h5**로 바꿉니다.\n"
   ]
  },
  {
   "cell_type": "code",
   "execution_count": 89,
   "metadata": {},
   "outputs": [
    {
     "name": "stdout",
     "output_type": "stream",
     "text": [
      "Model: \"sequential_17\"\n",
      "_________________________________________________________________\n",
      "Layer (type)                 Output Shape              Param #   \n",
      "=================================================================\n",
      "dropout_6 (Dropout)          (None, 784)               0         \n",
      "_________________________________________________________________\n",
      "dense_51 (Dense)             (None, 300)               235500    \n",
      "_________________________________________________________________\n",
      "dropout_7 (Dropout)          (None, 300)               0         \n",
      "_________________________________________________________________\n",
      "dense_52 (Dense)             (None, 100)               30100     \n",
      "_________________________________________________________________\n",
      "dropout_8 (Dropout)          (None, 100)               0         \n",
      "_________________________________________________________________\n",
      "dense_53 (Dense)             (None, 10)                1010      \n",
      "=================================================================\n",
      "Total params: 266,610\n",
      "Trainable params: 266,610\n",
      "Non-trainable params: 0\n",
      "_________________________________________________________________\n",
      "Epoch 1/10\n",
      "1500/1500 [==============================] - 4s 3ms/step - loss: 0.3662 - accuracy: 0.8870 - val_loss: 0.1558 - val_accuracy: 0.9541\n",
      "Epoch 2/10\n",
      "1500/1500 [==============================] - 4s 2ms/step - loss: 0.2082 - accuracy: 0.9352 - val_loss: 0.1114 - val_accuracy: 0.9658\n",
      "Epoch 3/10\n",
      "1500/1500 [==============================] - 4s 2ms/step - loss: 0.1632 - accuracy: 0.9496 - val_loss: 0.1116 - val_accuracy: 0.9668\n",
      "Epoch 4/10\n",
      "1500/1500 [==============================] - 4s 3ms/step - loss: 0.1402 - accuracy: 0.9557 - val_loss: 0.0925 - val_accuracy: 0.9693\n",
      "Epoch 5/10\n",
      "1500/1500 [==============================] - 4s 3ms/step - loss: 0.1225 - accuracy: 0.9620 - val_loss: 0.0886 - val_accuracy: 0.9714\n",
      "Epoch 6/10\n",
      "1500/1500 [==============================] - 4s 3ms/step - loss: 0.1120 - accuracy: 0.9648 - val_loss: 0.0838 - val_accuracy: 0.9743\n",
      "Epoch 7/10\n",
      "1500/1500 [==============================] - 4s 3ms/step - loss: 0.1040 - accuracy: 0.9671 - val_loss: 0.0770 - val_accuracy: 0.9754\n",
      "Epoch 8/10\n",
      "1500/1500 [==============================] - 4s 2ms/step - loss: 0.0948 - accuracy: 0.9695 - val_loss: 0.0717 - val_accuracy: 0.9778\n",
      "Epoch 9/10\n",
      "1500/1500 [==============================] - 4s 2ms/step - loss: 0.0912 - accuracy: 0.9715 - val_loss: 0.0739 - val_accuracy: 0.9788\n",
      "Epoch 10/10\n",
      "1500/1500 [==============================] - 4s 2ms/step - loss: 0.0812 - accuracy: 0.9746 - val_loss: 0.0770 - val_accuracy: 0.9772\n"
     ]
    },
    {
     "data": {
      "text/plain": [
       "<tensorflow.python.keras.callbacks.History at 0x7ff9c9b7e580>"
      ]
     },
     "execution_count": 89,
     "metadata": {},
     "output_type": "execute_result"
    }
   ],
   "source": [
    "#모델 생성\n",
    "model_4=make_model_4()\n",
    "\n",
    "# 모델 컴파일\n",
    "model_4.compile(loss=\"sparse_categorical_crossentropy\",\n",
    "              optimizer=tf.keras.optimizers.Adam(),\n",
    "              metrics=[\"accuracy\"])\n",
    "\n",
    "# 콜백 선언\n",
    "model_checkpoint_cb = tf.keras.callbacks.ModelCheckpoint('model_4.h5', save_best_only=True)\n",
    "\n",
    "# 모델 훈련\n",
    "model_4.fit(x_train, y_train, \n",
    "          validation_split=0.2,\n",
    "          epochs=10,\n",
    "          callbacks=[model_checkpoint_cb])"
   ]
  },
  {
   "cell_type": "markdown",
   "metadata": {},
   "source": [
    "# [ 5 ]\n",
    "\n",
    "* 지금까지 만든 4가지 모델을 불러오고 평가해 봅니다.\n",
    "* **tf.keras.models.load_model( )**을 통해 모델을 불러올 수 있습니다.\n",
    "* **model.evaluate( )**를 통해 모든 모델을 평가해 봅니다.\n",
    "* 불러오기 전에 아래 셀에서 각 모델의 특징을 간단히 메모하세요"
   ]
  },
  {
   "cell_type": "markdown",
   "metadata": {},
   "source": [
    "* model_1:\n",
    "* model_2:\n",
    "* model_3:\n",
    "* model_4:"
   ]
  },
  {
   "cell_type": "code",
   "execution_count": 78,
   "metadata": {},
   "outputs": [],
   "source": [
    "# 모델 불러오기 현재 tensorflow 버전에 로드 후 estimate할 때 버그가 있으므로 없애고 바로 평가 \n",
    "#model_1 = tf.keras.models.load_model('model_1.h5')\n",
    "#model_2 = tf.keras.models.load_model('model_2.h5')\n",
    "#model_3 = tf.keras.models.load_model('model_3.h5')\n",
    "#model_4 = tf.keras.models.load_model('model_4.h5')\n"
   ]
  },
  {
   "cell_type": "code",
   "execution_count": 90,
   "metadata": {},
   "outputs": [
    {
     "name": "stdout",
     "output_type": "stream",
     "text": [
      "313/313 [==============================] - 0s 1ms/step - loss: 0.1100 - accuracy: 0.9776\n"
     ]
    },
    {
     "data": {
      "text/plain": [
       "[0.11001980304718018, 0.9775999784469604]"
      ]
     },
     "execution_count": 90,
     "metadata": {},
     "output_type": "execute_result"
    }
   ],
   "source": [
    "# 모델 평가\n",
    "\n",
    "model_1.evaluate(x_test, y_test)"
   ]
  },
  {
   "cell_type": "code",
   "execution_count": 91,
   "metadata": {},
   "outputs": [
    {
     "name": "stdout",
     "output_type": "stream",
     "text": [
      "313/313 [==============================] - 0s 1ms/step - loss: 1.0769 - accuracy: 0.8794\n"
     ]
    },
    {
     "data": {
      "text/plain": [
       "[1.076857089996338, 0.8794000148773193]"
      ]
     },
     "execution_count": 91,
     "metadata": {},
     "output_type": "execute_result"
    }
   ],
   "source": [
    "model_2.evaluate(x_test, y_test)"
   ]
  },
  {
   "cell_type": "code",
   "execution_count": 92,
   "metadata": {},
   "outputs": [
    {
     "name": "stdout",
     "output_type": "stream",
     "text": [
      "313/313 [==============================] - 0s 1ms/step - loss: 0.3699 - accuracy: 0.9383\n"
     ]
    },
    {
     "data": {
      "text/plain": [
       "[0.36992308497428894, 0.9383000135421753]"
      ]
     },
     "execution_count": 92,
     "metadata": {},
     "output_type": "execute_result"
    }
   ],
   "source": [
    "model_3.evaluate(x_test, y_test)"
   ]
  },
  {
   "cell_type": "code",
   "execution_count": 93,
   "metadata": {},
   "outputs": [
    {
     "name": "stdout",
     "output_type": "stream",
     "text": [
      "313/313 [==============================] - 0s 1ms/step - loss: 0.0730 - accuracy: 0.9787\n"
     ]
    },
    {
     "data": {
      "text/plain": [
       "[0.07298269122838974, 0.9786999821662903]"
      ]
     },
     "execution_count": 93,
     "metadata": {},
     "output_type": "execute_result"
    }
   ],
   "source": [
    "model_4.evaluate(x_test, y_test)"
   ]
  },
  {
   "cell_type": "code",
   "execution_count": null,
   "metadata": {},
   "outputs": [],
   "source": []
  }
 ],
 "metadata": {
  "kernelspec": {
   "display_name": "Python 3",
   "language": "python",
   "name": "python3"
  },
  "language_info": {
   "codemirror_mode": {
    "name": "ipython",
    "version": 3
   },
   "file_extension": ".py",
   "mimetype": "text/x-python",
   "name": "python",
   "nbconvert_exporter": "python",
   "pygments_lexer": "ipython3",
   "version": "3.8.3"
  }
 },
 "nbformat": 4,
 "nbformat_minor": 4
}
