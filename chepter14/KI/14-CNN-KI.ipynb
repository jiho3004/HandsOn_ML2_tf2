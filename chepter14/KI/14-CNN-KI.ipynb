{
 "cells": [
  {
   "cell_type": "code",
   "execution_count": 1,
   "metadata": {},
   "outputs": [],
   "source": [
    "import tensorflow as tf\n",
    "import numpy as np\n",
    "import matplotlib.pyplot as plt\n",
    "\n",
    "def draw_image(img):\n",
    "    plt.imshow(img, cmap='gray')\n",
    "    #plt.title(img)\n",
    "    plt.show()"
   ]
  },
  {
   "cell_type": "markdown",
   "metadata": {},
   "source": [
    "## [0] Data load\n",
    "패션 MNIST 데이터셋을 불러옵니다. "
   ]
  },
  {
   "cell_type": "code",
   "execution_count": 2,
   "metadata": {},
   "outputs": [
    {
     "name": "stdout",
     "output_type": "stream",
     "text": [
      "* Load\n",
      "Train set:  (60000, 28, 28) [  0   0   0   0   0   0   0   0   0   0   0   0   0 193 228 218 213 198\n",
      " 180 212 210 211 213 223 220 243 202   0]\n",
      "Test set:  (10000, 28, 28) [  0   0   0   0   0   0   0   0   0   0   0   0   0   4   0  53 129 120\n",
      " 147 175 157 166 135 154 168 140   0   0]\n"
     ]
    }
   ],
   "source": [
    "fashion_mnist = tf.keras.datasets.fashion_mnist\n",
    "(img, y_train),(img_test, y_test) = fashion_mnist.load_data()\n",
    "print('* Load')\n",
    "print('Train set: ', img.shape, img[0][10])\n",
    "print('Test set: ', img_test.shape, img_test[0][10])"
   ]
  },
  {
   "cell_type": "code",
   "execution_count": 3,
   "metadata": {},
   "outputs": [
    {
     "data": {
      "image/png": "[encoded data removed]",
      "text/plain": [
       "<Figure size 432x288 with 1 Axes>"
      ]
     },
     "metadata": {
      "needs_background": "light"
     },
     "output_type": "display_data"
    }
   ],
   "source": [
    "draw_image(img_test[0])"
   ]
  },
  {
   "cell_type": "markdown",
   "metadata": {},
   "source": [
    "- 불러온 이미지를 prepocessing 함수를 통해 데이터셋으로 변환"
   ]
  },
  {
   "cell_type": "code",
   "execution_count": 4,
   "metadata": {},
   "outputs": [],
   "source": [
    "def preProcessing(img, img_test):\n",
    "\n",
    "    # reshape\n",
    "    \n",
    "    x_train = np.reshape(img, (60000, 28,28,1))\n",
    "    x_test = np.reshape(img_test, (10000, 28,28,1))\n",
    "\n",
    "    print('* Flatten')\n",
    "    print(x_train.shape, x_train[0][300:328])\n",
    "\n",
    "    # Normalize\n",
    "    \n",
    "    x_train = x_train/255\n",
    "    x_test = x_test/255\n",
    "    \n",
    "    print('* Normailze')\n",
    "    print(x_train.shape, x_train[0][300:328])\n",
    "    \n",
    "    return x_train, x_test"
   ]
  },
  {
   "cell_type": "code",
   "execution_count": 5,
   "metadata": {},
   "outputs": [
    {
     "name": "stdout",
     "output_type": "stream",
     "text": [
      "* Flatten\n",
      "(60000, 28, 28, 1) []\n",
      "* Normailze\n",
      "(60000, 28, 28, 1) []\n"
     ]
    }
   ],
   "source": [
    "x_train, x_test = preProcessing(img, img_test)"
   ]
  },
  {
   "cell_type": "markdown",
   "metadata": {},
   "source": [
    "## [1] 14장 559쪽 Covlutional Neural Network (CNN)\n",
    "\n",
    "- 모델의 특징\n",
    "model_k : 첫번째 층은 64개의 큰 필터(7x7)와 스트라이드 1을 사용합니다. 이미지가 28x28 픽셀 크기이고 하나의 컬러 채널(그레이스케일)이므로\n",
    "          input_shape = [28, 28, 1]로 지정합니다.\n",
    "          \n",
    "          풀링 크기가 2인 최대 풀링 층을 추가하여 공간 방향 차원을 절반으로 줄입니다.\n",
    "          \n",
    "          CNN이 출력층에 다다를수록 필터 개수가 늘어나는데, 저수준 특성(예를 들면 작은 동심원, 수평선)의 개수는 적지만 이를 연결하여 고수준 특성을 만들 수 있는 방법이 많기 때문에 이런 구조가 합리적입니다. \n",
    "          \n",
    "          그 다음 Dense layer..두 개의 은닉층과 하나의 출력층으로 구성된 완전 연결 네트워크입니다. dense layer는 샘플의 특성으로 1차원 배열을 기대하므로, 입력을 일렬로 펼쳐야 합니다 (flatten이 그 역할을 합니다). 또 밀집 층 사이에 over fitting을 줄이기 위해 50% 드롭아웃 층을 추가합니다. "
   ]
  },
  {
   "cell_type": "code",
   "execution_count": 6,
   "metadata": {},
   "outputs": [],
   "source": [
    "def make_model_mnist_fashion():\n",
    "\n",
    "    model = tf.keras.models.Sequential([\n",
    "        tf.keras.layers.Conv2D(64, 7, activation = \"relu\", padding = \"same\", input_shape = [28, 28, 1]),\n",
    "        tf.keras.layers.MaxPooling2D(2),\n",
    "        tf.keras.layers.Conv2D(128, 3, activation = \"relu\", padding = \"same\"),\n",
    "        tf.keras.layers.Conv2D(128, 3, activation = \"relu\", padding = \"same\"),\n",
    "        tf.keras.layers.MaxPooling2D(2),\n",
    "        tf.keras.layers.Conv2D(256, 3, activation = \"relu\", padding = \"same\"),\n",
    "        tf.keras.layers.Conv2D(256, 3, activation = \"relu\", padding = \"same\"),\n",
    "        tf.keras.layers.MaxPooling2D(2),\n",
    "        tf.keras.layers.Flatten(),\n",
    "        tf.keras.layers.Dense(128, activation = \"relu\"),\n",
    "        tf.keras.layers.Dropout(0.5),\n",
    "        tf.keras.layers.Dense(64, activation = \"relu\"),\n",
    "        tf.keras.layers.Dropout(0.5),\n",
    "        tf.keras.layers.Dense(10, activation = \"softmax\")\n",
    "    ])\n",
    "    \n",
    "    return model"
   ]
  },
  {
   "cell_type": "code",
   "execution_count": 7,
   "metadata": {},
   "outputs": [
    {
     "name": "stdout",
     "output_type": "stream",
     "text": [
      "Epoch 1/20\n",
      "1500/1500 [==============================] - 183s 122ms/step - loss: 0.8010 - accuracy: 0.7132 - val_loss: 0.4024 - val_accuracy: 0.8532\n",
      "Epoch 2/20\n",
      "1500/1500 [==============================] - 186s 124ms/step - loss: 0.4540 - accuracy: 0.8453 - val_loss: 0.3339 - val_accuracy: 0.8844\n",
      "Epoch 3/20\n",
      "1500/1500 [==============================] - 202s 135ms/step - loss: 0.3852 - accuracy: 0.8668 - val_loss: 0.3042 - val_accuracy: 0.8882\n",
      "Epoch 4/20\n",
      "1500/1500 [==============================] - 208s 139ms/step - loss: 0.3469 - accuracy: 0.8800 - val_loss: 0.3232 - val_accuracy: 0.8747\n",
      "Epoch 5/20\n",
      "1500/1500 [==============================] - 209s 139ms/step - loss: 0.3148 - accuracy: 0.8896 - val_loss: 0.2762 - val_accuracy: 0.9024\n",
      "Epoch 6/20\n",
      "1500/1500 [==============================] - 215s 143ms/step - loss: 0.2968 - accuracy: 0.8977 - val_loss: 0.2811 - val_accuracy: 0.9000\n",
      "Epoch 7/20\n",
      "1500/1500 [==============================] - 209s 139ms/step - loss: 0.2782 - accuracy: 0.9039 - val_loss: 0.2792 - val_accuracy: 0.8982\n",
      "Epoch 8/20\n",
      "1500/1500 [==============================] - 218s 145ms/step - loss: 0.2633 - accuracy: 0.9091 - val_loss: 0.2592 - val_accuracy: 0.9063\n",
      "Epoch 9/20\n",
      "1500/1500 [==============================] - 207s 138ms/step - loss: 0.2500 - accuracy: 0.9137 - val_loss: 0.2885 - val_accuracy: 0.8997\n",
      "Epoch 10/20\n",
      "1500/1500 [==============================] - 206s 138ms/step - loss: 0.2448 - accuracy: 0.9146 - val_loss: 0.2621 - val_accuracy: 0.9112\n",
      "Epoch 11/20\n",
      "1500/1500 [==============================] - 204s 136ms/step - loss: 0.2332 - accuracy: 0.9196 - val_loss: 0.2711 - val_accuracy: 0.9137\n",
      "Epoch 12/20\n",
      "1500/1500 [==============================] - 203s 135ms/step - loss: 0.2169 - accuracy: 0.9237 - val_loss: 0.2628 - val_accuracy: 0.9104\n",
      "Epoch 13/20\n",
      "1500/1500 [==============================] - 207s 138ms/step - loss: 0.2156 - accuracy: 0.9266 - val_loss: 0.2864 - val_accuracy: 0.9137\n",
      "Epoch 14/20\n",
      "1500/1500 [==============================] - 204s 136ms/step - loss: 0.2010 - accuracy: 0.9308 - val_loss: 0.2779 - val_accuracy: 0.9084\n",
      "Epoch 15/20\n",
      "1500/1500 [==============================] - 210s 140ms/step - loss: 0.1973 - accuracy: 0.9314 - val_loss: 0.3006 - val_accuracy: 0.9077\n",
      "Epoch 16/20\n",
      "1500/1500 [==============================] - 209s 139ms/step - loss: 0.1941 - accuracy: 0.9337 - val_loss: 0.2646 - val_accuracy: 0.9165\n",
      "Epoch 17/20\n",
      "1500/1500 [==============================] - 217s 145ms/step - loss: 0.1862 - accuracy: 0.9352 - val_loss: 0.3001 - val_accuracy: 0.9071\n",
      "Epoch 18/20\n",
      "1500/1500 [==============================] - 215s 144ms/step - loss: 0.1809 - accuracy: 0.9391 - val_loss: 0.2831 - val_accuracy: 0.9147\n",
      "Epoch 19/20\n",
      "1500/1500 [==============================] - 215s 143ms/step - loss: 0.1794 - accuracy: 0.9387 - val_loss: 0.2941 - val_accuracy: 0.9096\n",
      "Epoch 20/20\n",
      "1500/1500 [==============================] - 221s 148ms/step - loss: 0.1659 - accuracy: 0.9427 - val_loss: 0.3200 - val_accuracy: 0.9178\n"
     ]
    },
    {
     "data": {
      "text/plain": [
       "<tensorflow.python.keras.callbacks.History at 0x7fe24f5c84c0>"
      ]
     },
     "execution_count": 7,
     "metadata": {},
     "output_type": "execute_result"
    }
   ],
   "source": [
    "#모델 생성\n",
    "model_k=make_model_mnist_fashion()\n",
    "\n",
    "# 모델 컴파일\n",
    "model_k.compile(loss=\"sparse_categorical_crossentropy\",\n",
    "              optimizer=tf.keras.optimizers.Adam(),\n",
    "              metrics=[\"accuracy\"])\n",
    "\n",
    "# 콜백 선언\n",
    "model_checkpoint_cb = tf.keras.callbacks.ModelCheckpoint('model_k.h5', save_best_only=True)\n",
    "\n",
    "# 모델 훈련\n",
    "model_k.fit(x_train, y_train, \n",
    "            validation_split=0.2,\n",
    "            epochs=20,\n",
    "            callbacks=[model_checkpoint_cb])"
   ]
  },
  {
   "cell_type": "markdown",
   "metadata": {},
   "source": [
    "## [2] 모델 평가\n"
   ]
  },
  {
   "cell_type": "code",
   "execution_count": 8,
   "metadata": {},
   "outputs": [
    {
     "name": "stdout",
     "output_type": "stream",
     "text": [
      "313/313 [==============================] - 7s 24ms/step - loss: 0.3627 - accuracy: 0.9097\n"
     ]
    },
    {
     "data": {
      "text/plain": [
       "[0.3627490699291229, 0.9096999764442444]"
      ]
     },
     "execution_count": 8,
     "metadata": {},
     "output_type": "execute_result"
    }
   ],
   "source": [
    "model_k.evaluate(x_test, y_test)"
   ]
  },
  {
   "cell_type": "code",
   "execution_count": null,
   "metadata": {},
   "outputs": [],
   "source": []
  }
 ],
 "metadata": {
  "kernelspec": {
   "display_name": "Python 3",
   "language": "python",
   "name": "python3"
  },
  "language_info": {
   "codemirror_mode": {
    "name": "ipython",
    "version": 3
   },
   "file_extension": ".py",
   "mimetype": "text/x-python",
   "name": "python",
   "nbconvert_exporter": "python",
   "pygments_lexer": "ipython3",
   "version": "3.8.3"
  }
 },
 "nbformat": 4,
 "nbformat_minor": 4
}
